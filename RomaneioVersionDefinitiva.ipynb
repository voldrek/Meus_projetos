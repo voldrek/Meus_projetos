{
  "nbformat": 4,
  "nbformat_minor": 0,
  "metadata": {
    "colab": {
      "provenance": [],
      "include_colab_link": true
    },
    "kernelspec": {
      "name": "python3",
      "display_name": "Python 3"
    },
    "language_info": {
      "name": "python"
    }
  },
  "cells": [
    {
      "cell_type": "markdown",
      "metadata": {
        "id": "view-in-github",
        "colab_type": "text"
      },
      "source": [
        "<a href=\"https://colab.research.google.com/github/voldrek/Meus_projetos/blob/main/RomaneioVersionDefinitiva.ipynb\" target=\"_parent\"><img src=\"https://colab.research.google.com/assets/colab-badge.svg\" alt=\"Open In Colab\"/></a>"
      ]
    },
    {
      "cell_type": "code",
      "source": [
        "import pandas as pd\n",
        "import re,os,openpyxl,chardet\n",
        "import numpy as np\n",
        "from openpyxl import load_workbook\n",
        "\n",
        "# Pasta onde os arquivos CSV estão localizados\n",
        "pasta_arquivos = 'teste'\n",
        "\n",
        "# Lista para armazenar os DataFrames de cada arquivo CSV\n",
        "dataframes = []\n",
        "\n",
        "# Iterar pelos arquivos na pasta\n",
        "for arquivo in os.listdir(pasta_arquivos):\n",
        "    if arquivo.endswith('.csv'):\n",
        "        caminho_arquivo = os.path.join(pasta_arquivos, arquivo)\n",
        "        df = pd.read_csv(caminho_arquivo, sep='\\t', encoding='utf-16')\n",
        "        dataframes.append(df)\n",
        "\n",
        "# Concatenar os DataFrames em um único DataFrame\n",
        "df_concatenado = pd.concat(dataframes, ignore_index=True)\n",
        "\n",
        "# Salvar o DataFrame concatenado em um novo arquivo CSV\n",
        "arquivo_concatenado = 'concatenado.csv'\n",
        "df_concatenado.to_csv(arquivo_concatenado, index=False, sep='\\t', encoding='utf-8')\n",
        "\n",
        "def detect_encoding(file_path):\n",
        "    with open(file_path, 'rb') as file:\n",
        "        result = chardet.detect(file.read())\n",
        "    return result['encoding']\n",
        "\n",
        "file_path = arquivo_concatenado\n",
        "encoding = detect_encoding(file_path)\n",
        "\n",
        "# Ler os dados do arquivo CSV\n",
        "df = pd.read_csv(arquivo_concatenado, sep=\"\\t\", encoding=encoding)\n",
        "\n",
        "# Criar um novo arquivo XLSX\n",
        "arquivo_xlsx = \"arquivo.xlsx\"\n",
        "wb = openpyxl.Workbook()\n",
        "ws = wb.active\n",
        "\n",
        "# Incluir os cabeçalhos como primeira linha na planilha\n",
        "for coluna_numero, coluna_nome in enumerate(df.columns, start=1):\n",
        "    ws.cell(row=1, column=coluna_numero, value=coluna_nome)\n",
        "\n",
        "# Preencher as células da planilha com os dados do DataFrame\n",
        "for linha_numero, linha in enumerate(df.values, start=2):\n",
        "    for coluna_numero, valor in enumerate(linha, start=1):\n",
        "        ws.cell(row=linha_numero, column=coluna_numero, value=valor)\n",
        "\n",
        "# Salvar o arquivo XLSX\n",
        "wb.save(arquivo_xlsx)\n",
        "\n",
        "df2 = pd.read_excel('arquivo.xlsx')\n",
        "\n",
        "\n",
        "#Trasnforma a coluna do Service Id em string\n",
        "df2['Service Id'] = df2['Service Id'].apply(str)\n",
        "\n",
        "\n",
        "# Variáveis para padrões de números para extração\n",
        "padrao_celular = r'(\\b\\d{11}\\b)'\n",
        "padrao_iccd = r'\\b\\d{20}\\b'\n",
        "padrao_imei = r'(\\b\\d{15}\\b)'\n",
        "padrao_nf = r'(\\b\\d{8}\\b)'\n",
        "\n",
        "\n",
        "resultado = df[df['Service Id'].str.contains(padrao_imei, na=False)]\n",
        "produtos_encontrados = resultado['Produto']\n",
        "df2['Aparelhos'] = produtos_encontrados\n",
        "\n",
        "# Iterar sobre as linhas do DataFrame\n",
        "for index, row in df2.iterrows():\n",
        "    service_data = row['Service Id']\n",
        "    telefone = re.search(padrao_celular, service_data)\n",
        "    iccd = re.search(padrao_iccd, service_data)\n",
        "    imei = re.search(padrao_imei, service_data)\n",
        "    if telefone:\n",
        "        df2.at[index, 'Numero telefone'] = telefone.group(0)\n",
        "    if iccd:\n",
        "      if 'ICCD' in df2.columns:\n",
        "            df2.at[index, 'ICCD'] = iccd.group(0)\n",
        "      else:\n",
        "            df2['ICCD'] = None\n",
        "            df2.at[index, 'ICCD'] = iccd.group(0)\n",
        "\n",
        "    if imei:\n",
        "        if 'IMEI' in df2.columns:\n",
        "            df2.at[index, 'IMEI'] = imei.group(0)\n",
        "        else:\n",
        "            df2['IMEI'] = None\n",
        "            df2.at[index, 'IMEI'] = imei.group(0)\n",
        "\n",
        "#Salva os arquivos na nova pasta caso eles sejam localizados\n",
        "with pd.ExcelWriter('resposta_romaneio.xlsx') as writer:\n",
        "    df3 = pd.DataFrame().to_excel(writer, sheet_name='Planilha1', index=False)\n",
        "\n",
        "    if 'ICCD' in df2.columns:\n",
        "      numero_iccd = df2['ICCD']\n",
        "      limpeza_iccd = numero_iccd.dropna()\n",
        "      limpeza_iccd.to_excel(writer, sheet_name='Planilha1', startcol=0, index=False)  # Coluna 'ICCD' na coluna A\n",
        "    if 'Numero telefone' in df2.columns:\n",
        "      numero_telefone = df2['Numero telefone']\n",
        "      limpeza_telefone = numero_telefone.dropna()\n",
        "      limpeza_telefone.to_excel(writer, sheet_name='Planilha1', startcol=1, index=False)  # Coluna 'Telefone' na coluna b\n",
        "    if 'Ordem de vendas' in df2.columns:\n",
        "      numero_ordem = df2['Ordem de vendas']\n",
        "      limpeza_ordem = numero_ordem.dropna()\n",
        "      limpeza_ordem.to_excel(writer, sheet_name='Planilha1', startcol=2, index=False)  # Coluna 'Ordem de Venda' na coluna c\n",
        "    if 'Nota Fiscal' in df2.columns:\n",
        "      numero_nf = df2['Nota Fiscal']\n",
        "      limpeza_nf = numero_nf.dropna()\n",
        "      limpeza_nf.to_excel(writer, sheet_name='Planilha1', startcol=3, index=False) # Coluna 'Nota Fiscal' na coluna c\n",
        "    if 'IMEI' in df2.columns:\n",
        "      numero_imei = df2['IMEI']\n",
        "      limpeza_imei = numero_imei.dropna()\n",
        "      limpeza_imei.to_excel(writer, sheet_name='Planilha1', startcol=4, index=False)  # Coluna 'IMEI' na coluna E\n",
        "    if 'Conta de serviço' in df2.columns:\n",
        "      numero_conta = df2['Conta de serviço'].dropna()\n",
        "      numero_conta.to_excel(writer, sheet_name='Planilha1', startcol=5, index=False) #Coluna 'Conta de Serviço' na coluna F\n",
        "    if 'Aparelhos' in df2.columns:\n",
        "      aparelhos = df2['Aparelhos'].dropna()\n",
        "      aparelhos.to_excel(writer,sheet_name='Planilha1', startcol=6, index=False) #Coluna 'Aparelhos' na coluna G\n",
        "\n",
        "#Faz a limpeza dos Excluidos e novos\n",
        "df3 = pd.read_excel('resposta_romaneio.xlsx')\n",
        "df3 = df3.dropna(subset=['ICCD'])\n",
        "df3.to_excel('resposta_romaneio.xlsx')"
      ],
      "metadata": {
        "id": "DmJ-iI6ndr7M",
        "colab": {
          "base_uri": "https://localhost:8080/"
        },
        "outputId": "bd5eff60-2e63-43c4-8466-83f60d73573c"
      },
      "execution_count": 168,
      "outputs": [
        {
          "output_type": "stream",
          "name": "stderr",
          "text": [
            "<ipython-input-168-aaadba514e79>:71: UserWarning: This pattern is interpreted as a regular expression, and has match groups. To actually get the groups, use str.extract.\n",
            "  resultado = df[df['Service Id'].str.contains(padrao_imei, na=False)]\n"
          ]
        }
      ]
    },
    {
      "cell_type": "code",
      "source": [
        "\n"
      ],
      "metadata": {
        "id": "Atk2NrNBUPBQ"
      },
      "execution_count": null,
      "outputs": []
    },
    {
      "cell_type": "code",
      "source": [
        "df2"
      ],
      "metadata": {
        "id": "8Hqnx-t3urRp"
      },
      "execution_count": null,
      "outputs": []
    },
    {
      "cell_type": "code",
      "source": [
        "df3.info()"
      ],
      "metadata": {
        "id": "hCLBPp_BqbA8"
      },
      "execution_count": null,
      "outputs": []
    },
    {
      "cell_type": "code",
      "source": [],
      "metadata": {
        "id": "ZY6chsWj_l3Z"
      },
      "execution_count": null,
      "outputs": []
    }
  ]
}