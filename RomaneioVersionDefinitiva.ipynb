{
  "nbformat": 4,
  "nbformat_minor": 0,
  "metadata": {
    "colab": {
      "provenance": [],
      "include_colab_link": true
    },
    "kernelspec": {
      "name": "python3",
      "display_name": "Python 3"
    },
    "language_info": {
      "name": "python"
    }
  },
  "cells": [
    {
      "cell_type": "markdown",
      "metadata": {
        "id": "view-in-github",
        "colab_type": "text"
      },
      "source": [
        "<a href=\"https://colab.research.google.com/github/voldrek/Meus_projetos/blob/main/RomaneioVersionDefinitiva.ipynb\" target=\"_parent\"><img src=\"https://colab.research.google.com/assets/colab-badge.svg\" alt=\"Open In Colab\"/></a>"
      ]
    },
    {
      "cell_type": "code",
      "source": [
        "import pandas as pd\n",
        "import re,os,openpyxl,chardet\n",
        "import numpy as np\n",
        "from openpyxl import load_workbook\n",
        "\n",
        "# Pasta onde os arquivos CSV estão localizados\n",
        "pasta_arquivos = 'teste'\n",
        "\n",
        "# Lista para armazenar os DataFrames de cada arquivo CSV\n",
        "dataframes = []\n",
        "\n",
        "#Função para encontrar o código utf das pastas\n",
        "def detect_encoding(file_path):\n",
        "    with open(file_path, 'rb') as file:\n",
        "        result = chardet.detect(file.read())\n",
        "    return result['encoding']\n",
        "\n",
        "\n",
        "\n",
        "# Iterar pelos arquivos na pasta\n",
        "for arquivo in os.listdir(pasta_arquivos):\n",
        "    if arquivo.endswith('.csv'):\n",
        "        caminho_arquivo = os.path.join(pasta_arquivos, arquivo)\n",
        "        df = pd.read_csv(caminho_arquivo, sep='\\t', encoding='utf-16')\n",
        "        dataframes.append(df)\n",
        "\n",
        "# Concatenar os DataFrames em um único DataFrame\n",
        "df_concatenado = pd.concat(dataframes, ignore_index=True)\n",
        "\n",
        "# Salvar o DataFrame concatenado em um novo arquivo CSV\n",
        "arquivo_concatenado = 'concatenado.csv'\n",
        "df_concatenado.to_csv(arquivo_concatenado, index=False, sep='\\t', encoding='utf-16')\n",
        "\n",
        "file_path = arquivo_concatenado\n",
        "encoding = detect_encoding(file_path)\n",
        "# Ler os dados do arquivo CSV\n",
        "df = pd.read_csv(arquivo_concatenado, sep=\"\\t\", encoding=encoding)\n",
        "#Deletar\n",
        "df = df[~df['Ação'].str.contains('Excluir')]\n",
        "df = df[~df['Produto'].str.contains('Produto')]\n",
        "\n",
        "#Trasnforma a coluna do Service Id em string\n",
        "df['Service Id'] = df['Service Id'].apply(str)\n",
        "\n",
        "# Variáveis para padrões de números para extração\n",
        "padrao_celular = r'(\\b\\d{11}\\b)'\n",
        "#padrao_iccd = r'\\b\\d{20}\\b'\n",
        "padrao_imei = r'(\\b\\d{15}\\b)'\n",
        "padrao_nf = r'(\\b\\d{8}\\b)'\n",
        "\n",
        "#Tratamento dos dados da Coluna dos produtos selecionando apenas as linhas realcionadas ao IMEI\n",
        "aparelhos_resultado = df[df['Service Id'].str.contains(padrao_imei, na=False)]\n",
        "aparalhos_encontrados = aparelhos_resultado['Produto'].dropna()\n",
        "df['Aparelhos'] = aparalhos_encontrados.dropna()\n",
        "\n",
        "\n",
        "#Tratamento dos dados da Coluna da Ordem de venda selecionando apenas as linhas realcionadas ao IMEI\n",
        "ordem_vendas_resultado = df[df['Service Id'].str.contains(padrao_imei, na=False)]\n",
        "ordem_vendas_encontrados = ordem_vendas_resultado['Ordem de vendas'].dropna()\n",
        "df['OV'] = ordem_vendas_encontrados.dropna()\n",
        "\n",
        "\n",
        "#Tratamento dos dados da Coluna da Nota Fiscal selecionando apenas as linhas realcionadas ao IMEI\n",
        "nota_fiscal_resultado = df[df['Service Id'].str.contains(padrao_imei, na=False)]\n",
        "nota_fiscal_encontrados = nota_fiscal_resultado['Nota Fiscal'].dropna()\n",
        "df['NF'] = nota_fiscal_encontrados.dropna()\n",
        "\n",
        "\n",
        "#Tratamento dos dados da Coluna da Conta de serviço selecionando apenas as linhas realcionadas ao IMEI\n",
        "conta_servico_resultado = df[df['Service Id'].str.contains(padrao_imei, na=False)]\n",
        "conta_servico_encontrados = conta_servico_resultado['Conta de serviço'].dropna()\n",
        "df['Conta'] = conta_servico_encontrados.dropna()\n",
        "\n",
        "#Tratamento dos dados da Coluna da Conta de serviço selecionando apenas as linhas realcionadas ao IMEI\n",
        "iccd_resultado = df[df['Tipo de serviço'].str.contains('Simcard', na=False)]\n",
        "iccd_encontrados = iccd_resultado['Service Id'].dropna()\n",
        "df['ICCD'] = iccd_encontrados.dropna()\n",
        "\n",
        "\n",
        "# Fazendo a Separação do que são imei,numero de telefone e ICCD da coluna do service Id\n",
        "for index, row in df.iterrows():\n",
        "    service_data = row['Service Id']\n",
        "    telefone = re.search(padrao_celular, service_data)\n",
        "    imei = re.search(padrao_imei, service_data)\n",
        "    if telefone:\n",
        "        df.at[index, 'Numero telefone'] = telefone.group(0)\n",
        "    if imei:\n",
        "        if 'IMEI' in df.columns:\n",
        "            df.at[index, 'IMEI'] = imei.group(0)\n",
        "        else:\n",
        "            df['IMEI'] = None\n",
        "\n",
        "\n",
        "#Salva os arquivos na nova pasta caso eles sejam localizados\n",
        "with pd.ExcelWriter('resposta_romaneio.xlsx') as writer:\n",
        "    df2 = pd.DataFrame()\n",
        "    df2 = df2.astype(str)\n",
        "\n",
        "    if 'ICCD' in df.columns:\n",
        "      numero_iccd = df['ICCD'].dropna()\n",
        "      numero_iccd.to_excel(writer, sheet_name='Planilha1', startcol=0, index=False)  # Coluna 'ICCD' na coluna A\n",
        "    if 'Numero telefone' in df.columns:\n",
        "      numero_telefone = df['Numero telefone'].dropna()\n",
        "      numero_telefone.to_excel(writer, sheet_name='Planilha1', startcol=1, index=False)  # Coluna 'Telefone' na coluna b\n",
        "    if 'OV' in df.columns:\n",
        "      numero_ordem = df['OV'].dropna()\n",
        "      numero_ordem.to_excel(writer, sheet_name='Planilha1', startcol=2, index=False)  # Coluna 'Ordem de Venda' na coluna c\n",
        "    if 'NF' in df.columns:\n",
        "      numero_nf = df['NF'].dropna()\n",
        "      numero_nf.to_excel(writer, sheet_name='Planilha1', startcol=3, index=False) # Coluna 'Nota Fiscal' na coluna c\n",
        "    if 'IMEI' in df.columns:\n",
        "      numero_imei = df['IMEI'].dropna()\n",
        "      numero_imei.to_excel(writer, sheet_name='Planilha1', startcol=4, index=False)  # Coluna 'IMEI' na coluna E\n",
        "    if 'Conta' in df.columns:\n",
        "      numero_conta = df['Conta'].dropna()\n",
        "      numero_conta.to_excel(writer, sheet_name='Planilha1', startcol=5, index=False) #Coluna 'Conta de Serviço' na coluna F\n",
        "    if 'Aparelhos' in df.columns:\n",
        "      aparelhos = df['Aparelhos'].dropna()\n",
        "      aparelhos.to_excel(writer,sheet_name='Planilha1', startcol=6, index=False) #Coluna 'Aparelhos' na coluna G\n",
        "\n",
        "\n",
        "\n",
        "#Passa uma função for em todas as colunas para elas não aparecerem como numeros cientificos\n",
        "df2 = pd.read_excel('resposta_romaneio.xlsx')\n",
        "colunas_inteiro = ['Numero telefone', 'OV', 'NF', 'IMEI', 'Conta']\n",
        "for coluna in colunas_inteiro:\n",
        "    df2[coluna] = df2[coluna].astype(float).apply(lambda x: '{:.0f}'.format(x) if not pd.isnull(x) else x)\n",
        "df2.to_excel('resposta_romaneio.xlsx', index=False)"
      ],
      "metadata": {
        "id": "DmJ-iI6ndr7M"
      },
      "execution_count": null,
      "outputs": []
    },
    {
      "cell_type": "code",
      "source": [],
      "metadata": {
        "id": "Atk2NrNBUPBQ"
      },
      "execution_count": null,
      "outputs": []
    },
    {
      "cell_type": "code",
      "source": [],
      "metadata": {
        "id": "ydkSwbXJ2VUP"
      },
      "execution_count": null,
      "outputs": []
    },
    {
      "cell_type": "code",
      "source": [
        "df2['ICCD'].head()"
      ],
      "metadata": {
        "id": "8Hqnx-t3urRp"
      },
      "execution_count": null,
      "outputs": []
    },
    {
      "cell_type": "code",
      "source": [
        "df2.info()"
      ],
      "metadata": {
        "id": "hCLBPp_BqbA8"
      },
      "execution_count": null,
      "outputs": []
    },
    {
      "cell_type": "code",
      "source": [
        "df2"
      ],
      "metadata": {
        "id": "ZY6chsWj_l3Z"
      },
      "execution_count": null,
      "outputs": []
    },
    {
      "cell_type": "code",
      "source": [],
      "metadata": {
        "id": "uvSS8SWLEdYu"
      },
      "execution_count": null,
      "outputs": []
    },
    {
      "cell_type": "code",
      "source": [],
      "metadata": {
        "id": "6HcgNEUkEfgQ"
      },
      "execution_count": null,
      "outputs": []
    }
  ]
}