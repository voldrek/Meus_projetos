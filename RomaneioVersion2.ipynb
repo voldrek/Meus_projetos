{
  "nbformat": 4,
  "nbformat_minor": 0,
  "metadata": {
    "colab": {
      "provenance": [],
      "authorship_tag": "ABX9TyPEgbKjmm9w0QiE9ioh9Ym6",
      "include_colab_link": true
    },
    "kernelspec": {
      "name": "python3",
      "display_name": "Python 3"
    },
    "language_info": {
      "name": "python"
    }
  },
  "cells": [
    {
      "cell_type": "markdown",
      "metadata": {
        "id": "view-in-github",
        "colab_type": "text"
      },
      "source": [
        "<a href=\"https://colab.research.google.com/github/voldrek/Meus_projetos/blob/main/RomaneioVersion2.ipynb\" target=\"_parent\"><img src=\"https://colab.research.google.com/assets/colab-badge.svg\" alt=\"Open In Colab\"/></a>"
      ]
    },
    {
      "cell_type": "code",
      "execution_count": null,
      "metadata": {
        "id": "q3co2V4jconr"
      },
      "outputs": [],
      "source": [
        "import pandas as pd\n",
        "import re\n",
        "import numpy as np\n",
        "from openpyxl import load_workbook"
      ]
    },
    {
      "cell_type": "code",
      "source": [
        "import pandas as pd\n",
        "\n",
        "# Carregar o arquivo CSV usando pandas com codificação 'latin1'\n",
        "csv_filename = 'teste.csv'\n",
        "data = pd.read_csv(csv_filename, encoding='latin1')\n",
        "\n",
        "# Especificar o nome do arquivo Excel de saída\n",
        "excel_filename = 'saida.xlsx'\n",
        "\n",
        "# Salvar os dados no formato Excel\n",
        "data.to_excel(excel_filename, index=False)\n"
      ],
      "metadata": {
        "id": "3zXdZoti4y6T"
      },
      "execution_count": null,
      "outputs": []
    },
    {
      "cell_type": "code",
      "source": [
        "df = pd.read_excel('ola.xlsx')\n",
        "#Filtrando os Excluir e deletando da tabela\n",
        "filtro_excluir_novas = df['Ação'].str.lower().isin(['excluir', 'novas'])\n",
        "\n",
        "# Filtra o DataFrame para manter apenas as linhas que não atendem ao filtro acima\n",
        "df = df[~filtro_excluir_novas]\n",
        "#Aplicando os filtros dos cabeçalhos extras\n",
        "filtroProduto = df['Produto'].str.contains('Produto', case=False)\n",
        "linhasProduto = df[filtroProduto]\n",
        "colunaProduto = df['Produto']\n",
        "indiceLinhasProduto = linhasProduto.index\n",
        "df = df.drop(index=indiceLinhasProduto)\n",
        "\n",
        "df['Service Id'] = df['Service Id'].apply(lambda x: '{:.0f}'.format(x))\n",
        "\n",
        "# Variáveis para padrões de números para extração\n",
        "padrao_celular = r'(\\b\\d{11}\\b)'\n",
        "padrao_iccd = r'\\b\\d{20}\\b'\n",
        "padrao_imei = r'(\\b\\d{15}\\b)'\n",
        "padrao_nf = r'(\\b\\d{8}\\b)'\n",
        "# Iterar sobre as linhas do DataFrame\n",
        "for index, row in df.iterrows():\n",
        "    service_data = row['Service Id']\n",
        "    telefone = re.search(padrao_celular, service_data)\n",
        "    iccd = re.search(padrao_iccd, service_data)\n",
        "    imei = re.search(padrao_imei, service_data)\n",
        "    if telefone:\n",
        "        df.at[index, 'Numero telefone'] = telefone.group(0)\n",
        "    if iccd:\n",
        "        if 'ICCD' in df.columns:\n",
        "            df.at[index, 'ICCD'] = iccd.group(0)\n",
        "        else:\n",
        "            df['ICCD'] = None\n",
        "            df.at[index, 'ICCD'] = iccd.group(0)\n",
        "    if imei:\n",
        "        df.at[index, 'IMEI'] = imei.group(0)\n",
        "\n",
        "with pd.ExcelWriter('resposta_romaneio.xlsx') as writer:\n",
        "    df2 = pd.DataFrame().to_excel(writer, sheet_name='Planilha1', index=False)\n",
        "\n",
        "    if 'ICCD' in df.columns:\n",
        "      numero_iccd = df['ICCD']\n",
        "      limpeza_iccd = numero_iccd.dropna()\n",
        "      limpeza_iccd.to_excel(writer, sheet_name='Planilha1', startcol=0, index=False)  # Coluna 'ICCD' na coluna A\n",
        "    if 'Numero telefone' in df.columns:\n",
        "      numero_telefone = df['Numero telefone']\n",
        "      limpeza_telefone = numero_telefone.dropna()\n",
        "      limpeza_telefone.to_excel(writer, sheet_name='Planilha1', startcol=1, index=False)  # Coluna 'Telefone' na coluna b\n",
        "    if 'Ordem de vendas' in df.columns:\n",
        "      numero_ordem = df['Ordem de vendas']\n",
        "      limpeza_ordem = numero_ordem.dropna()\n",
        "      limpeza_ordem.to_excel(writer, sheet_name='Planilha1', startcol=2, index=False)  # Coluna 'Ordem de Venda' na coluna c\n",
        "    if 'Nota Fiscal' in df.columns:\n",
        "      numero_nf = df['Nota Fiscal']\n",
        "      limpeza_nf = numero_nf.dropna()\n",
        "      limpeza_nf.to_excel(writer, sheet_name='Planilha1', startcol=3, index=False) # Coluna 'Nota Fiscal' na coluna c\n",
        "    if 'IMEI' in df.columns:\n",
        "      numero_imei = df['IMEI']\n",
        "      limpeza_imei = numero_imei.dropna()\n",
        "      limpeza_imei.to_excel(writer, sheet_name='Planilha1', startcol=4, index=False)  # Coluna 'IMEI' na coluna E\n",
        "    if 'Conta de serviço' in df.columns:\n",
        "      numero_conta = df['Conta de serviço'].dropna()\n",
        "      numero_conta.to_excel(writer, sheet_name='Planilha1', startcol=5, index=False)\n",
        "\n",
        "df2 = pd.read_excel('resposta_romaneio.xlsx')\n",
        "df2 = df2.dropna(subset=['ICCD'])\n",
        "df2.to_excel('resposta_romaneio.xlsx')"
      ],
      "metadata": {
        "id": "DmJ-iI6ndr7M"
      },
      "execution_count": 247,
      "outputs": []
    },
    {
      "cell_type": "code",
      "source": [
        "\n",
        "df2.head(5)"
      ],
      "metadata": {
        "id": "8Hqnx-t3urRp"
      },
      "execution_count": null,
      "outputs": []
    },
    {
      "cell_type": "code",
      "source": [
        "df2.info()"
      ],
      "metadata": {
        "id": "hCLBPp_BqbA8"
      },
      "execution_count": null,
      "outputs": []
    }
  ]
}